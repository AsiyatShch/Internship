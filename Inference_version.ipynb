{
  "nbformat": 4,
  "nbformat_minor": 0,
  "metadata": {
    "colab": {
      "provenance": [],
      "include_colab_link": true
    },
    "kernelspec": {
      "name": "python3",
      "display_name": "Python 3"
    },
    "language_info": {
      "name": "python"
    }
  },
  "cells": [
    {
      "cell_type": "markdown",
      "metadata": {
        "id": "view-in-github",
        "colab_type": "text"
      },
      "source": [
        "<a href=\"https://colab.research.google.com/github/AsiyatShch/Internship/blob/master/Inference_version.ipynb\" target=\"_parent\"><img src=\"https://colab.research.google.com/assets/colab-badge.svg\" alt=\"Open In Colab\"/></a>"
      ]
    },
    {
      "cell_type": "code",
      "source": [
        "!pip install ipympl\n",
        "!pip install catboost\n",
        "!pip install serial"
      ],
      "metadata": {
        "colab": {
          "base_uri": "https://localhost:8080/"
        },
        "id": "_03m49zZpy_g",
        "outputId": "6a7f827a-1984-418f-f492-875787496aea"
      },
      "execution_count": 1,
      "outputs": [
        {
          "output_type": "stream",
          "name": "stdout",
          "text": [
            "Collecting ipympl\n",
            "  Downloading ipympl-0.9.3-py2.py3-none-any.whl (511 kB)\n",
            "\u001b[2K     \u001b[90m━━━━━━━━━━━━━━━━━━━━━━━━━━━━━━━━━━━━━━━━\u001b[0m \u001b[32m511.6/511.6 kB\u001b[0m \u001b[31m6.3 MB/s\u001b[0m eta \u001b[36m0:00:00\u001b[0m\n",
            "\u001b[?25hRequirement already satisfied: ipython<9 in /usr/local/lib/python3.10/dist-packages (from ipympl) (7.34.0)\n",
            "Requirement already satisfied: numpy in /usr/local/lib/python3.10/dist-packages (from ipympl) (1.25.2)\n",
            "Requirement already satisfied: ipython-genutils in /usr/local/lib/python3.10/dist-packages (from ipympl) (0.2.0)\n",
            "Requirement already satisfied: pillow in /usr/local/lib/python3.10/dist-packages (from ipympl) (9.4.0)\n",
            "Requirement already satisfied: traitlets<6 in /usr/local/lib/python3.10/dist-packages (from ipympl) (5.7.1)\n",
            "Requirement already satisfied: ipywidgets<9,>=7.6.0 in /usr/local/lib/python3.10/dist-packages (from ipympl) (7.7.1)\n",
            "Requirement already satisfied: matplotlib<4,>=3.4.0 in /usr/local/lib/python3.10/dist-packages (from ipympl) (3.7.1)\n",
            "Requirement already satisfied: setuptools>=18.5 in /usr/local/lib/python3.10/dist-packages (from ipython<9->ipympl) (67.7.2)\n",
            "Collecting jedi>=0.16 (from ipython<9->ipympl)\n",
            "  Downloading jedi-0.19.1-py2.py3-none-any.whl (1.6 MB)\n",
            "\u001b[2K     \u001b[90m━━━━━━━━━━━━━━━━━━━━━━━━━━━━━━━━━━━━━━━━\u001b[0m \u001b[32m1.6/1.6 MB\u001b[0m \u001b[31m38.5 MB/s\u001b[0m eta \u001b[36m0:00:00\u001b[0m\n",
            "\u001b[?25hRequirement already satisfied: decorator in /usr/local/lib/python3.10/dist-packages (from ipython<9->ipympl) (4.4.2)\n",
            "Requirement already satisfied: pickleshare in /usr/local/lib/python3.10/dist-packages (from ipython<9->ipympl) (0.7.5)\n",
            "Requirement already satisfied: prompt-toolkit!=3.0.0,!=3.0.1,<3.1.0,>=2.0.0 in /usr/local/lib/python3.10/dist-packages (from ipython<9->ipympl) (3.0.43)\n",
            "Requirement already satisfied: pygments in /usr/local/lib/python3.10/dist-packages (from ipython<9->ipympl) (2.16.1)\n",
            "Requirement already satisfied: backcall in /usr/local/lib/python3.10/dist-packages (from ipython<9->ipympl) (0.2.0)\n",
            "Requirement already satisfied: matplotlib-inline in /usr/local/lib/python3.10/dist-packages (from ipython<9->ipympl) (0.1.6)\n",
            "Requirement already satisfied: pexpect>4.3 in /usr/local/lib/python3.10/dist-packages (from ipython<9->ipympl) (4.9.0)\n",
            "Requirement already satisfied: ipykernel>=4.5.1 in /usr/local/lib/python3.10/dist-packages (from ipywidgets<9,>=7.6.0->ipympl) (5.5.6)\n",
            "Requirement already satisfied: widgetsnbextension~=3.6.0 in /usr/local/lib/python3.10/dist-packages (from ipywidgets<9,>=7.6.0->ipympl) (3.6.6)\n",
            "Requirement already satisfied: jupyterlab-widgets>=1.0.0 in /usr/local/lib/python3.10/dist-packages (from ipywidgets<9,>=7.6.0->ipympl) (3.0.10)\n",
            "Requirement already satisfied: contourpy>=1.0.1 in /usr/local/lib/python3.10/dist-packages (from matplotlib<4,>=3.4.0->ipympl) (1.2.0)\n",
            "Requirement already satisfied: cycler>=0.10 in /usr/local/lib/python3.10/dist-packages (from matplotlib<4,>=3.4.0->ipympl) (0.12.1)\n",
            "Requirement already satisfied: fonttools>=4.22.0 in /usr/local/lib/python3.10/dist-packages (from matplotlib<4,>=3.4.0->ipympl) (4.49.0)\n",
            "Requirement already satisfied: kiwisolver>=1.0.1 in /usr/local/lib/python3.10/dist-packages (from matplotlib<4,>=3.4.0->ipympl) (1.4.5)\n",
            "Requirement already satisfied: packaging>=20.0 in /usr/local/lib/python3.10/dist-packages (from matplotlib<4,>=3.4.0->ipympl) (24.0)\n",
            "Requirement already satisfied: pyparsing>=2.3.1 in /usr/local/lib/python3.10/dist-packages (from matplotlib<4,>=3.4.0->ipympl) (3.1.2)\n",
            "Requirement already satisfied: python-dateutil>=2.7 in /usr/local/lib/python3.10/dist-packages (from matplotlib<4,>=3.4.0->ipympl) (2.8.2)\n",
            "Requirement already satisfied: jupyter-client in /usr/local/lib/python3.10/dist-packages (from ipykernel>=4.5.1->ipywidgets<9,>=7.6.0->ipympl) (6.1.12)\n",
            "Requirement already satisfied: tornado>=4.2 in /usr/local/lib/python3.10/dist-packages (from ipykernel>=4.5.1->ipywidgets<9,>=7.6.0->ipympl) (6.3.3)\n",
            "Requirement already satisfied: parso<0.9.0,>=0.8.3 in /usr/local/lib/python3.10/dist-packages (from jedi>=0.16->ipython<9->ipympl) (0.8.3)\n",
            "Requirement already satisfied: ptyprocess>=0.5 in /usr/local/lib/python3.10/dist-packages (from pexpect>4.3->ipython<9->ipympl) (0.7.0)\n",
            "Requirement already satisfied: wcwidth in /usr/local/lib/python3.10/dist-packages (from prompt-toolkit!=3.0.0,!=3.0.1,<3.1.0,>=2.0.0->ipython<9->ipympl) (0.2.13)\n",
            "Requirement already satisfied: six>=1.5 in /usr/local/lib/python3.10/dist-packages (from python-dateutil>=2.7->matplotlib<4,>=3.4.0->ipympl) (1.16.0)\n",
            "Requirement already satisfied: notebook>=4.4.1 in /usr/local/lib/python3.10/dist-packages (from widgetsnbextension~=3.6.0->ipywidgets<9,>=7.6.0->ipympl) (6.5.5)\n",
            "Requirement already satisfied: jinja2 in /usr/local/lib/python3.10/dist-packages (from notebook>=4.4.1->widgetsnbextension~=3.6.0->ipywidgets<9,>=7.6.0->ipympl) (3.1.3)\n",
            "Requirement already satisfied: pyzmq<25,>=17 in /usr/local/lib/python3.10/dist-packages (from notebook>=4.4.1->widgetsnbextension~=3.6.0->ipywidgets<9,>=7.6.0->ipympl) (23.2.1)\n",
            "Requirement already satisfied: argon2-cffi in /usr/local/lib/python3.10/dist-packages (from notebook>=4.4.1->widgetsnbextension~=3.6.0->ipywidgets<9,>=7.6.0->ipympl) (23.1.0)\n",
            "Requirement already satisfied: jupyter-core>=4.6.1 in /usr/local/lib/python3.10/dist-packages (from notebook>=4.4.1->widgetsnbextension~=3.6.0->ipywidgets<9,>=7.6.0->ipympl) (5.7.2)\n",
            "Requirement already satisfied: nbformat in /usr/local/lib/python3.10/dist-packages (from notebook>=4.4.1->widgetsnbextension~=3.6.0->ipywidgets<9,>=7.6.0->ipympl) (5.10.2)\n",
            "Requirement already satisfied: nbconvert>=5 in /usr/local/lib/python3.10/dist-packages (from notebook>=4.4.1->widgetsnbextension~=3.6.0->ipywidgets<9,>=7.6.0->ipympl) (6.5.4)\n",
            "Requirement already satisfied: nest-asyncio>=1.5 in /usr/local/lib/python3.10/dist-packages (from notebook>=4.4.1->widgetsnbextension~=3.6.0->ipywidgets<9,>=7.6.0->ipympl) (1.6.0)\n",
            "Requirement already satisfied: Send2Trash>=1.8.0 in /usr/local/lib/python3.10/dist-packages (from notebook>=4.4.1->widgetsnbextension~=3.6.0->ipywidgets<9,>=7.6.0->ipympl) (1.8.2)\n",
            "Requirement already satisfied: terminado>=0.8.3 in /usr/local/lib/python3.10/dist-packages (from notebook>=4.4.1->widgetsnbextension~=3.6.0->ipywidgets<9,>=7.6.0->ipympl) (0.18.1)\n",
            "Requirement already satisfied: prometheus-client in /usr/local/lib/python3.10/dist-packages (from notebook>=4.4.1->widgetsnbextension~=3.6.0->ipywidgets<9,>=7.6.0->ipympl) (0.20.0)\n",
            "Requirement already satisfied: nbclassic>=0.4.7 in /usr/local/lib/python3.10/dist-packages (from notebook>=4.4.1->widgetsnbextension~=3.6.0->ipywidgets<9,>=7.6.0->ipympl) (1.0.0)\n",
            "Requirement already satisfied: platformdirs>=2.5 in /usr/local/lib/python3.10/dist-packages (from jupyter-core>=4.6.1->notebook>=4.4.1->widgetsnbextension~=3.6.0->ipywidgets<9,>=7.6.0->ipympl) (4.2.0)\n",
            "Requirement already satisfied: jupyter-server>=1.8 in /usr/local/lib/python3.10/dist-packages (from nbclassic>=0.4.7->notebook>=4.4.1->widgetsnbextension~=3.6.0->ipywidgets<9,>=7.6.0->ipympl) (1.24.0)\n",
            "Requirement already satisfied: notebook-shim>=0.2.3 in /usr/local/lib/python3.10/dist-packages (from nbclassic>=0.4.7->notebook>=4.4.1->widgetsnbextension~=3.6.0->ipywidgets<9,>=7.6.0->ipympl) (0.2.4)\n",
            "Requirement already satisfied: lxml in /usr/local/lib/python3.10/dist-packages (from nbconvert>=5->notebook>=4.4.1->widgetsnbextension~=3.6.0->ipywidgets<9,>=7.6.0->ipympl) (4.9.4)\n",
            "Requirement already satisfied: beautifulsoup4 in /usr/local/lib/python3.10/dist-packages (from nbconvert>=5->notebook>=4.4.1->widgetsnbextension~=3.6.0->ipywidgets<9,>=7.6.0->ipympl) (4.12.3)\n",
            "Requirement already satisfied: bleach in /usr/local/lib/python3.10/dist-packages (from nbconvert>=5->notebook>=4.4.1->widgetsnbextension~=3.6.0->ipywidgets<9,>=7.6.0->ipympl) (6.1.0)\n",
            "Requirement already satisfied: defusedxml in /usr/local/lib/python3.10/dist-packages (from nbconvert>=5->notebook>=4.4.1->widgetsnbextension~=3.6.0->ipywidgets<9,>=7.6.0->ipympl) (0.7.1)\n",
            "Requirement already satisfied: entrypoints>=0.2.2 in /usr/local/lib/python3.10/dist-packages (from nbconvert>=5->notebook>=4.4.1->widgetsnbextension~=3.6.0->ipywidgets<9,>=7.6.0->ipympl) (0.4)\n",
            "Requirement already satisfied: jupyterlab-pygments in /usr/local/lib/python3.10/dist-packages (from nbconvert>=5->notebook>=4.4.1->widgetsnbextension~=3.6.0->ipywidgets<9,>=7.6.0->ipympl) (0.3.0)\n",
            "Requirement already satisfied: MarkupSafe>=2.0 in /usr/local/lib/python3.10/dist-packages (from nbconvert>=5->notebook>=4.4.1->widgetsnbextension~=3.6.0->ipywidgets<9,>=7.6.0->ipympl) (2.1.5)\n",
            "Requirement already satisfied: mistune<2,>=0.8.1 in /usr/local/lib/python3.10/dist-packages (from nbconvert>=5->notebook>=4.4.1->widgetsnbextension~=3.6.0->ipywidgets<9,>=7.6.0->ipympl) (0.8.4)\n",
            "Requirement already satisfied: nbclient>=0.5.0 in /usr/local/lib/python3.10/dist-packages (from nbconvert>=5->notebook>=4.4.1->widgetsnbextension~=3.6.0->ipywidgets<9,>=7.6.0->ipympl) (0.10.0)\n",
            "Requirement already satisfied: pandocfilters>=1.4.1 in /usr/local/lib/python3.10/dist-packages (from nbconvert>=5->notebook>=4.4.1->widgetsnbextension~=3.6.0->ipywidgets<9,>=7.6.0->ipympl) (1.5.1)\n",
            "Requirement already satisfied: tinycss2 in /usr/local/lib/python3.10/dist-packages (from nbconvert>=5->notebook>=4.4.1->widgetsnbextension~=3.6.0->ipywidgets<9,>=7.6.0->ipympl) (1.2.1)\n",
            "Requirement already satisfied: fastjsonschema in /usr/local/lib/python3.10/dist-packages (from nbformat->notebook>=4.4.1->widgetsnbextension~=3.6.0->ipywidgets<9,>=7.6.0->ipympl) (2.19.1)\n",
            "Requirement already satisfied: jsonschema>=2.6 in /usr/local/lib/python3.10/dist-packages (from nbformat->notebook>=4.4.1->widgetsnbextension~=3.6.0->ipywidgets<9,>=7.6.0->ipympl) (4.19.2)\n",
            "Requirement already satisfied: argon2-cffi-bindings in /usr/local/lib/python3.10/dist-packages (from argon2-cffi->notebook>=4.4.1->widgetsnbextension~=3.6.0->ipywidgets<9,>=7.6.0->ipympl) (21.2.0)\n",
            "Requirement already satisfied: attrs>=22.2.0 in /usr/local/lib/python3.10/dist-packages (from jsonschema>=2.6->nbformat->notebook>=4.4.1->widgetsnbextension~=3.6.0->ipywidgets<9,>=7.6.0->ipympl) (23.2.0)\n",
            "Requirement already satisfied: jsonschema-specifications>=2023.03.6 in /usr/local/lib/python3.10/dist-packages (from jsonschema>=2.6->nbformat->notebook>=4.4.1->widgetsnbextension~=3.6.0->ipywidgets<9,>=7.6.0->ipympl) (2023.12.1)\n",
            "Requirement already satisfied: referencing>=0.28.4 in /usr/local/lib/python3.10/dist-packages (from jsonschema>=2.6->nbformat->notebook>=4.4.1->widgetsnbextension~=3.6.0->ipywidgets<9,>=7.6.0->ipympl) (0.33.0)\n",
            "Requirement already satisfied: rpds-py>=0.7.1 in /usr/local/lib/python3.10/dist-packages (from jsonschema>=2.6->nbformat->notebook>=4.4.1->widgetsnbextension~=3.6.0->ipywidgets<9,>=7.6.0->ipympl) (0.18.0)\n",
            "Requirement already satisfied: anyio<4,>=3.1.0 in /usr/local/lib/python3.10/dist-packages (from jupyter-server>=1.8->nbclassic>=0.4.7->notebook>=4.4.1->widgetsnbextension~=3.6.0->ipywidgets<9,>=7.6.0->ipympl) (3.7.1)\n",
            "Requirement already satisfied: websocket-client in /usr/local/lib/python3.10/dist-packages (from jupyter-server>=1.8->nbclassic>=0.4.7->notebook>=4.4.1->widgetsnbextension~=3.6.0->ipywidgets<9,>=7.6.0->ipympl) (1.7.0)\n",
            "Requirement already satisfied: cffi>=1.0.1 in /usr/local/lib/python3.10/dist-packages (from argon2-cffi-bindings->argon2-cffi->notebook>=4.4.1->widgetsnbextension~=3.6.0->ipywidgets<9,>=7.6.0->ipympl) (1.16.0)\n",
            "Requirement already satisfied: soupsieve>1.2 in /usr/local/lib/python3.10/dist-packages (from beautifulsoup4->nbconvert>=5->notebook>=4.4.1->widgetsnbextension~=3.6.0->ipywidgets<9,>=7.6.0->ipympl) (2.5)\n",
            "Requirement already satisfied: webencodings in /usr/local/lib/python3.10/dist-packages (from bleach->nbconvert>=5->notebook>=4.4.1->widgetsnbextension~=3.6.0->ipywidgets<9,>=7.6.0->ipympl) (0.5.1)\n",
            "Requirement already satisfied: idna>=2.8 in /usr/local/lib/python3.10/dist-packages (from anyio<4,>=3.1.0->jupyter-server>=1.8->nbclassic>=0.4.7->notebook>=4.4.1->widgetsnbextension~=3.6.0->ipywidgets<9,>=7.6.0->ipympl) (3.6)\n",
            "Requirement already satisfied: sniffio>=1.1 in /usr/local/lib/python3.10/dist-packages (from anyio<4,>=3.1.0->jupyter-server>=1.8->nbclassic>=0.4.7->notebook>=4.4.1->widgetsnbextension~=3.6.0->ipywidgets<9,>=7.6.0->ipympl) (1.3.1)\n",
            "Requirement already satisfied: exceptiongroup in /usr/local/lib/python3.10/dist-packages (from anyio<4,>=3.1.0->jupyter-server>=1.8->nbclassic>=0.4.7->notebook>=4.4.1->widgetsnbextension~=3.6.0->ipywidgets<9,>=7.6.0->ipympl) (1.2.0)\n",
            "Requirement already satisfied: pycparser in /usr/local/lib/python3.10/dist-packages (from cffi>=1.0.1->argon2-cffi-bindings->argon2-cffi->notebook>=4.4.1->widgetsnbextension~=3.6.0->ipywidgets<9,>=7.6.0->ipympl) (2.21)\n",
            "Installing collected packages: jedi, ipympl\n",
            "Successfully installed ipympl-0.9.3 jedi-0.19.1\n",
            "Collecting catboost\n",
            "  Downloading catboost-1.2.3-cp310-cp310-manylinux2014_x86_64.whl (98.5 MB)\n",
            "\u001b[2K     \u001b[90m━━━━━━━━━━━━━━━━━━━━━━━━━━━━━━━━━━━━━━━━\u001b[0m \u001b[32m98.5/98.5 MB\u001b[0m \u001b[31m6.4 MB/s\u001b[0m eta \u001b[36m0:00:00\u001b[0m\n",
            "\u001b[?25hRequirement already satisfied: graphviz in /usr/local/lib/python3.10/dist-packages (from catboost) (0.20.1)\n",
            "Requirement already satisfied: matplotlib in /usr/local/lib/python3.10/dist-packages (from catboost) (3.7.1)\n",
            "Requirement already satisfied: numpy>=1.16.0 in /usr/local/lib/python3.10/dist-packages (from catboost) (1.25.2)\n",
            "Requirement already satisfied: pandas>=0.24 in /usr/local/lib/python3.10/dist-packages (from catboost) (1.5.3)\n",
            "Requirement already satisfied: scipy in /usr/local/lib/python3.10/dist-packages (from catboost) (1.11.4)\n",
            "Requirement already satisfied: plotly in /usr/local/lib/python3.10/dist-packages (from catboost) (5.15.0)\n",
            "Requirement already satisfied: six in /usr/local/lib/python3.10/dist-packages (from catboost) (1.16.0)\n",
            "Requirement already satisfied: python-dateutil>=2.8.1 in /usr/local/lib/python3.10/dist-packages (from pandas>=0.24->catboost) (2.8.2)\n",
            "Requirement already satisfied: pytz>=2020.1 in /usr/local/lib/python3.10/dist-packages (from pandas>=0.24->catboost) (2023.4)\n",
            "Requirement already satisfied: contourpy>=1.0.1 in /usr/local/lib/python3.10/dist-packages (from matplotlib->catboost) (1.2.0)\n",
            "Requirement already satisfied: cycler>=0.10 in /usr/local/lib/python3.10/dist-packages (from matplotlib->catboost) (0.12.1)\n",
            "Requirement already satisfied: fonttools>=4.22.0 in /usr/local/lib/python3.10/dist-packages (from matplotlib->catboost) (4.49.0)\n",
            "Requirement already satisfied: kiwisolver>=1.0.1 in /usr/local/lib/python3.10/dist-packages (from matplotlib->catboost) (1.4.5)\n",
            "Requirement already satisfied: packaging>=20.0 in /usr/local/lib/python3.10/dist-packages (from matplotlib->catboost) (24.0)\n",
            "Requirement already satisfied: pillow>=6.2.0 in /usr/local/lib/python3.10/dist-packages (from matplotlib->catboost) (9.4.0)\n",
            "Requirement already satisfied: pyparsing>=2.3.1 in /usr/local/lib/python3.10/dist-packages (from matplotlib->catboost) (3.1.2)\n",
            "Requirement already satisfied: tenacity>=6.2.0 in /usr/local/lib/python3.10/dist-packages (from plotly->catboost) (8.2.3)\n",
            "Installing collected packages: catboost\n",
            "Successfully installed catboost-1.2.3\n",
            "Collecting serial\n",
            "  Downloading serial-0.0.97-py2.py3-none-any.whl (40 kB)\n",
            "\u001b[2K     \u001b[90m━━━━━━━━━━━━━━━━━━━━━━━━━━━━━━━━━━━━━━━━\u001b[0m \u001b[32m40.9/40.9 kB\u001b[0m \u001b[31m1.6 MB/s\u001b[0m eta \u001b[36m0:00:00\u001b[0m\n",
            "\u001b[?25hRequirement already satisfied: future>=0.17.1 in /usr/local/lib/python3.10/dist-packages (from serial) (0.18.3)\n",
            "Requirement already satisfied: pyyaml>=3.13 in /usr/local/lib/python3.10/dist-packages (from serial) (6.0.1)\n",
            "Collecting iso8601>=0.1.12 (from serial)\n",
            "  Downloading iso8601-2.1.0-py3-none-any.whl (7.5 kB)\n",
            "Installing collected packages: iso8601, serial\n",
            "Successfully installed iso8601-2.1.0 serial-0.0.97\n"
          ]
        }
      ]
    },
    {
      "cell_type": "code",
      "source": [
        "import numpy as np\n",
        "import pandas as pd\n",
        "import os\n",
        "import warnings\n",
        "import pickle\n",
        "import time\n",
        "import serial\n",
        "import matplotlib.pyplot as plt\n",
        "from IPython.display import clear_output\n",
        "from catboost import CatBoostClassifier\n",
        "from sklearn import metrics\n",
        "from sklearn.metrics import f1_score\n",
        "from sklearn.metrics import classification_report\n",
        "from sklearn.preprocessing import StandardScaler\n",
        "from sklearn.preprocessing import LabelEncoder\n",
        "from sklearn.model_selection import train_test_split"
      ],
      "metadata": {
        "id": "Mx5V6EjBqHkK"
      },
      "execution_count": 4,
      "outputs": []
    },
    {
      "cell_type": "code",
      "source": [
        "from google.colab import drive\n",
        "drive.mount('/content/drive')"
      ],
      "metadata": {
        "id": "XmYAOIIR3cfY",
        "colab": {
          "base_uri": "https://localhost:8080/"
        },
        "outputId": "57141cda-2a9d-4ff7-b561-70cfbe4dbc5c"
      },
      "execution_count": 3,
      "outputs": [
        {
          "output_type": "stream",
          "name": "stdout",
          "text": [
            "Mounted at /content/drive\n"
          ]
        }
      ]
    },
    {
      "cell_type": "markdown",
      "source": [
        "# Preprocessing train dataset and modeling"
      ],
      "metadata": {
        "id": "_KxLIBC-jLTe"
      }
    },
    {
      "cell_type": "code",
      "source": [
        "# Target\n",
        "def make_y(gestures):\n",
        "\n",
        "  le = LabelEncoder()\n",
        "  state = gestures['state'].values\n",
        "  y_cmd = le.fit_transform(state)\n",
        "\n",
        "  return y_cmd"
      ],
      "metadata": {
        "id": "BxaXmL7YJJjl"
      },
      "execution_count": 5,
      "outputs": []
    },
    {
      "cell_type": "code",
      "execution_count": 6,
      "metadata": {
        "id": "GtYNpwbZEf2C"
      },
      "outputs": [],
      "source": [
        "# Preprocessing functions\n",
        "def smooth(df):\n",
        "  alpha = 0.1\n",
        "  df = pd.DataFrame(df)\n",
        "  X_smoothed = pd.DataFrame()\n",
        "  for column in df.columns:\n",
        "      smoothed_values = [df[column].iloc[0]]  # Initialize with the first observed value\n",
        "      for i in range(1, len(df)):\n",
        "          smoothed_value = alpha * df[column].iloc[i] + (1 - alpha) * smoothed_values[-1]\n",
        "          smoothed_values.append(smoothed_value)\n",
        "      X_smoothed[column] = smoothed_values\n",
        "  return X_smoothed\n",
        "\n",
        "def smooth_scale(x, scaler):\n",
        "    df_smoothed = smooth(x)  # Pass the input variable 'x' instead of 'df_selected'\n",
        "    array_scaled = scaler.fit_transform(x)  # Use 'x' for scaling\n",
        "    df_scaled = pd.DataFrame(array_scaled)\n",
        "    return df_scaled\n",
        "\n",
        "def imp_features(df, y):\n",
        "    OMG_CH = [i for i in range(50)]\n",
        "    df['gest'] = pd.Series(y)\n",
        "    df['label'] = df['gest'].apply(lambda x: '0' if x == 0 else '1')\n",
        "    std_dev_per_label = df.groupby('label', as_index=False)[OMG_CH].std().T.reset_index().rename(columns={'index':'column'}).drop(0, axis=0)\n",
        "    std_dev_per_label['std_dif'] = (std_dev_per_label[1]-std_dev_per_label[0]).abs()\n",
        "    imp_features_list = list(std_dev_per_label.sort_values(by='std_dif', ascending=False)['column'][:12])\n",
        "    df_selected = df[imp_features_list]\n",
        "    imp_features_list = [str(el) for el in imp_features_list]\n",
        "    df_selected.columns = df_selected.columns.astype(str)\n",
        "    return df_selected,imp_features_list\n",
        "\n"
      ]
    },
    {
      "cell_type": "code",
      "source": [
        "# Train dataset\n",
        "montage_train = '2024-03-04_08-17-49.emg8'\n",
        "\n",
        "folder = '/content/drive/MyDrive/Моторика'\n",
        "filepath_train = os.path.join(folder, montage_train)\n",
        "\n",
        "\n",
        "gestures = pd.read_csv(filepath_train, sep=' ', on_bad_lines='warn')\n",
        "gestures = gestures[~gestures['state'].isin(['Baseline', 'Finish'])]\n",
        "gestures.sort_index(inplace=True)\n",
        "gestures.reset_index(drop=True, inplace=True)\n",
        "\n",
        "OMG_CH = np.arange(50).astype(str)\n",
        "X = gestures[OMG_CH]\n",
        "display(X.columns)\n",
        "\n",
        "le = LabelEncoder()\n",
        "state = gestures['state'].values\n",
        "y = le.fit_transform(state)\n",
        "\n",
        "\n",
        "scaler = StandardScaler()\n",
        "X = smooth_scale(X, scaler)\n",
        "X,imp_features_list = imp_features(X, y)\n",
        "\n",
        "display(X.shape, y.shape,\n",
        "        imp_features_list)"
      ],
      "metadata": {
        "colab": {
          "base_uri": "https://localhost:8080/",
          "height": 173
        },
        "id": "FUJVJXwd8UPC",
        "outputId": "ce57a06d-d91c-422c-9649-756994f5d90c"
      },
      "execution_count": 7,
      "outputs": [
        {
          "output_type": "display_data",
          "data": {
            "text/plain": [
              "Index(['0', '1', '2', '3', '4', '5', '6', '7', '8', '9', '10', '11', '12',\n",
              "       '13', '14', '15', '16', '17', '18', '19', '20', '21', '22', '23', '24',\n",
              "       '25', '26', '27', '28', '29', '30', '31', '32', '33', '34', '35', '36',\n",
              "       '37', '38', '39', '40', '41', '42', '43', '44', '45', '46', '47', '48',\n",
              "       '49'],\n",
              "      dtype='object')"
            ]
          },
          "metadata": {}
        },
        {
          "output_type": "display_data",
          "data": {
            "text/plain": [
              "(6364, 12)"
            ]
          },
          "metadata": {}
        },
        {
          "output_type": "display_data",
          "data": {
            "text/plain": [
              "(6364,)"
            ]
          },
          "metadata": {}
        },
        {
          "output_type": "display_data",
          "data": {
            "text/plain": [
              "['16', '36', '46', '6', '26', '13', '3', '23', '33', '43', '11', '1']"
            ]
          },
          "metadata": {}
        }
      ]
    },
    {
      "cell_type": "code",
      "source": [
        "# Creating a model\n",
        "model_boost = CatBoostClassifier(depth=7, eval_metric='Accuracy', verbose=False, iterations=30)\n",
        "\n",
        "model_boost.fit(X, y)"
      ],
      "metadata": {
        "id": "mMFWVgIhFzpu",
        "colab": {
          "base_uri": "https://localhost:8080/"
        },
        "outputId": "a4b830ce-6308-420e-d078-c5be2542cd94"
      },
      "execution_count": 8,
      "outputs": [
        {
          "output_type": "execute_result",
          "data": {
            "text/plain": [
              "<catboost.core.CatBoostClassifier at 0x7a9418e58430>"
            ]
          },
          "metadata": {},
          "execution_count": 8
        }
      ]
    },
    {
      "cell_type": "markdown",
      "source": [
        "# Preprocessing new data and inference"
      ],
      "metadata": {
        "id": "L5MnKpf8GazG"
      }
    },
    {
      "cell_type": "code",
      "source": [
        "def preprocessing(x):\n",
        "  x = smooth_scale(x, scaler)\n",
        "  x.columns = x.columns.astype(str)\n",
        "  x = x[imp_features_list]\n",
        "  return x"
      ],
      "metadata": {
        "id": "pnoaQ0qKFkV0"
      },
      "execution_count": 9,
      "outputs": []
    },
    {
      "cell_type": "code",
      "source": [
        "def inference(x):\n",
        "    y = model_boost.predict(x)\n",
        "    return y"
      ],
      "metadata": {
        "id": "1IPUfDBrGM_0"
      },
      "execution_count": 10,
      "outputs": []
    },
    {
      "cell_type": "code",
      "source": [
        "def postprocessing(x, prev):\n",
        "    if prev is None:\n",
        "        y = x\n",
        "    else:\n",
        "        y = x*0.1 + prev*0.9 # Holt-Winters filter\n",
        "    return y\n",
        "\n",
        "def commands(x):\n",
        "    y = np.round(np.clip(x / 100, 0, 1)*100).astype(int)\n",
        "    return y\n",
        "\n",
        "def commands(x):\n",
        "    cmd = vp.neutral_state.copy()\n",
        "    # for this mapping look at GESTURES\n",
        "    if x == 0: # 'Close'\n",
        "        cmd.update({'thumb_flex': 1, 'index_flex': 1, 'middle_flex': 1, 'ring_flex': 1, 'pinky_flex': 1})\n",
        "        return cmd\n",
        "    elif x == 1: # 'Indication'\n",
        "        cmd.update({'thumb_extend':1, 'index_extend': 1, 'middle_flex': 1, 'ring_flex': 1, 'pinky_flex': 1})\n",
        "        return cmd\n",
        "    elif x == 2: # 'Neutral'\n",
        "        pass\n",
        "        return cmd\n",
        "    elif x == 3: # 'Open'\n",
        "        cmd.update({'thumb_extend': 1, 'index_extend': 1, 'middle_extend': 1, 'ring_extend': 1, 'pinky_extend': 1})\n",
        "        return cmd\n",
        "    elif x == 4: # 'Pinch'\n",
        "        cmd.update({'thumb_flex':1, 'index_flex': 1, 'middle_extend': 1, 'ring_extend': 1, 'pinky_extend': 1})\n",
        "        return cmd\n",
        "    elif x == 5: # 'ThumbFingers'\n",
        "        cmd.update({'thumb_flex': 1, 'index_extend': 1, 'middle_extend': 1, 'ring_extend': 1, 'pinky_extend': 1})\n",
        "        return cmd\n",
        "    else:\n",
        "        return cmd"
      ],
      "metadata": {
        "id": "zPqjmGRqINt6"
      },
      "execution_count": 11,
      "outputs": []
    },
    {
      "cell_type": "code",
      "source": [
        "montage_test = '2024-03-04_10-00-21.emg8'\n",
        "\n",
        "import os\n",
        "import warnings\n",
        "\n",
        "folder = '/content/drive/MyDrive/motorika'\n",
        "filepath_train = os.path.join(folder, montage_train)\n",
        "\n",
        "gestures = pd.read_csv(montage_test, sep=' ', on_bad_lines='warn')\n",
        "gestures = gestures[~gestures['state'].isin(['Baseline', 'Finish'])]\n",
        "gestures.sort_index(inplace=True)\n",
        "gestures.reset_index(drop=True, inplace=True)\n",
        "\n",
        "OMG_CH = np.arange(50).astype(str)\n",
        "X_test = gestures[OMG_CH]\n",
        "display(X_test.columns)\n"
      ],
      "metadata": {
        "colab": {
          "base_uri": "https://localhost:8080/",
          "height": 156
        },
        "id": "9wGlWx_w9W0N",
        "outputId": "e525a503-b21e-4cae-d09e-7c2677fd6ed2"
      },
      "execution_count": 12,
      "outputs": [
        {
          "output_type": "stream",
          "name": "stderr",
          "text": [
            "Skipping line 3: expected 56 fields, saw 74\n",
            "\n"
          ]
        },
        {
          "output_type": "display_data",
          "data": {
            "text/plain": [
              "Index(['0', '1', '2', '3', '4', '5', '6', '7', '8', '9', '10', '11', '12',\n",
              "       '13', '14', '15', '16', '17', '18', '19', '20', '21', '22', '23', '24',\n",
              "       '25', '26', '27', '28', '29', '30', '31', '32', '33', '34', '35', '36',\n",
              "       '37', '38', '39', '40', '41', '42', '43', '44', '45', '46', '47', '48',\n",
              "       '49'],\n",
              "      dtype='object')"
            ]
          },
          "metadata": {}
        }
      ]
    },
    {
      "cell_type": "code",
      "source": [
        "le = LabelEncoder()\n",
        "state = gestures['state'].values\n",
        "y_true = le.fit_transform(state)"
      ],
      "metadata": {
        "id": "q7PHCxn3Dynq"
      },
      "execution_count": 13,
      "outputs": []
    },
    {
      "cell_type": "code",
      "source": [
        "X_test = smooth_scale(X_test, scaler)\n",
        "X_test.columns = X_test.columns.astype(str)\n",
        "\n",
        "X_test = X_test[imp_features_list]\n",
        "X_test.columns"
      ],
      "metadata": {
        "colab": {
          "base_uri": "https://localhost:8080/"
        },
        "id": "_4h2YnB3Cmvo",
        "outputId": "90cd27f5-78ba-4b43-c378-07bec1a10246"
      },
      "execution_count": 14,
      "outputs": [
        {
          "output_type": "execute_result",
          "data": {
            "text/plain": [
              "Index(['16', '36', '46', '6', '26', '13', '3', '23', '33', '43', '11', '1'], dtype='object')"
            ]
          },
          "metadata": {},
          "execution_count": 14
        }
      ]
    },
    {
      "cell_type": "code",
      "source": [
        "TIMEOUT = 0.033\n",
        "DEBUG = False\n",
        "\n",
        "i = 0\n",
        "ts_old = time.time()\n",
        "ts_diff = 0;\n",
        "\n",
        "y_previous = None\n",
        "y_dct = {\n",
        "    'omg_sample':[],\n",
        "    'sample_preprocessed':[],\n",
        "\n",
        "    'y_predicted':[],\n",
        "    'y_postprocessed':[],\n",
        "    'y_commands':[],\n",
        "}\n",
        "while True:\n",
        "\n",
        "    # [Data reading]\n",
        "    ts_start = time.time()\n",
        "\n",
        "    try:\n",
        "        # [Sim data]\n",
        "        if i < len(X_test):\n",
        "            sample = X_test.values[i]\n",
        "        else:\n",
        "            break\n",
        "        # [/Sim data]\n",
        "        [[ts, cycle_ts], omg_sample] = np.array_split(sample, [2])\n",
        "\n",
        "    except Exception as e:\n",
        "        print(e)\n",
        "\n",
        "    # [/Data Reading]\n",
        "\n",
        "    # [Data preprocessing]\n",
        "    omg_sample = pd.DataFrame(omg_sample)\n",
        "    sample_preprocessed = preprocessing(omg_sample.values.reshape(1, -1))\n",
        "    # [/Data preprocessing]\n",
        "\n",
        "    # [Inference]\n",
        "    y_predicted         = inference(sample_preprocessed)\n",
        "    # [/Inference]\n",
        "\n",
        "    # [Inference Postprocessing]\n",
        "    y_postprocessed     = postprocessing(y_predicted, y_previous)\n",
        "    # [/Inference Postprocessing]\n",
        "\n",
        "    # [Commands composition]\n",
        "    y_commands          = commands(y_postprocessed.argmax())\n",
        "    # [/Commands composition]\n",
        "\n",
        "    # [Commands sending]\n",
        "    # NO COMMANDS SENDING IN SIMULATION\n",
        "    # [/Commands sending]\n",
        "\n",
        "    # [Data logging]\n",
        "    y_dct['omg_sample'].append(omg_sample)\n",
        "    y_dct['sample_preprocessed'].append(sample_preprocessed)\n",
        "    y_dct['y_predicted'].append(y_predicted)\n",
        "    y_dct['y_postprocessed'].append(y_postprocessed)\n",
        "    y_dct['y_commands'].append(y_commands)\n",
        "    # [/Data logging]\n",
        "\n",
        "    y_previous = y_postprocessed\n",
        "\n",
        "    if DEBUG:\n",
        "        clear_output(wait=True)\n",
        "\n",
        "        # sanity check: Sizes of SAMPLE=52, OMG=50\n",
        "        print(f'SAMPLE SIZE: {len(sample)}, OMG: {len(omg_sample)}')\n",
        "        # print('INPUT:\\n', s)\n",
        "        print('SAMPLE:\\n', sample)\n",
        "\n",
        "        # sanity check: Sizes of SAMPLE=65, OMG=50\n",
        "        print(f'SAMPLE SIZE: {len(sample)}, OMG: {len(omg_sample)}')\n",
        "        print(f'TS: {ts}, CYCLE TS: {cycle_ts}')\n",
        "        print(y_postprocessed)\n",
        "        print(y_commands)\n",
        "\n",
        "    ts_diff = time.time() - ts_start\n",
        "    assert(ts_diff<TIMEOUT), 'Calculation cycle takes more than TIMEOUT, halting...'\n",
        "    ts_old = ts_start\n",
        "    i += 1"
      ],
      "metadata": {
        "id": "I8TDNrSz2C8Z",
        "colab": {
          "base_uri": "https://localhost:8080/",
          "height": 332
        },
        "outputId": "d624156a-fcf9-4d9f-9801-ef658ad401a6"
      },
      "execution_count": null,
      "outputs": [
        {
          "output_type": "error",
          "ename": "NameError",
          "evalue": "name 'vp' is not defined",
          "traceback": [
            "\u001b[0;31m---------------------------------------------------------------------------\u001b[0m",
            "\u001b[0;31mNameError\u001b[0m                                 Traceback (most recent call last)",
            "\u001b[0;32m<ipython-input-39-1e5cacb7fb8a>\u001b[0m in \u001b[0;36m<cell line: 17>\u001b[0;34m()\u001b[0m\n\u001b[1;32m     48\u001b[0m \u001b[0;34m\u001b[0m\u001b[0m\n\u001b[1;32m     49\u001b[0m     \u001b[0;31m# [Commands composition]\u001b[0m\u001b[0;34m\u001b[0m\u001b[0;34m\u001b[0m\u001b[0m\n\u001b[0;32m---> 50\u001b[0;31m     \u001b[0my_commands\u001b[0m          \u001b[0;34m=\u001b[0m \u001b[0mcommands\u001b[0m\u001b[0;34m(\u001b[0m\u001b[0my_postprocessed\u001b[0m\u001b[0;34m.\u001b[0m\u001b[0margmax\u001b[0m\u001b[0;34m(\u001b[0m\u001b[0;34m)\u001b[0m\u001b[0;34m)\u001b[0m\u001b[0;34m\u001b[0m\u001b[0;34m\u001b[0m\u001b[0m\n\u001b[0m\u001b[1;32m     51\u001b[0m     \u001b[0;31m# [/Commands composition]\u001b[0m\u001b[0;34m\u001b[0m\u001b[0;34m\u001b[0m\u001b[0m\n\u001b[1;32m     52\u001b[0m \u001b[0;34m\u001b[0m\u001b[0m\n",
            "\u001b[0;32m<ipython-input-11-fb3d282cdf3e>\u001b[0m in \u001b[0;36mcommands\u001b[0;34m(x)\u001b[0m\n\u001b[1;32m     11\u001b[0m \u001b[0;34m\u001b[0m\u001b[0m\n\u001b[1;32m     12\u001b[0m \u001b[0;32mdef\u001b[0m \u001b[0mcommands\u001b[0m\u001b[0;34m(\u001b[0m\u001b[0mx\u001b[0m\u001b[0;34m)\u001b[0m\u001b[0;34m:\u001b[0m\u001b[0;34m\u001b[0m\u001b[0;34m\u001b[0m\u001b[0m\n\u001b[0;32m---> 13\u001b[0;31m     \u001b[0mcmd\u001b[0m \u001b[0;34m=\u001b[0m \u001b[0mvp\u001b[0m\u001b[0;34m.\u001b[0m\u001b[0mneutral_state\u001b[0m\u001b[0;34m.\u001b[0m\u001b[0mcopy\u001b[0m\u001b[0;34m(\u001b[0m\u001b[0;34m)\u001b[0m\u001b[0;34m\u001b[0m\u001b[0;34m\u001b[0m\u001b[0m\n\u001b[0m\u001b[1;32m     14\u001b[0m     \u001b[0;31m# for this mapping look at GESTURES\u001b[0m\u001b[0;34m\u001b[0m\u001b[0;34m\u001b[0m\u001b[0m\n\u001b[1;32m     15\u001b[0m     \u001b[0;32mif\u001b[0m \u001b[0mx\u001b[0m \u001b[0;34m==\u001b[0m \u001b[0;36m0\u001b[0m\u001b[0;34m:\u001b[0m \u001b[0;31m# 'Close'\u001b[0m\u001b[0;34m\u001b[0m\u001b[0;34m\u001b[0m\u001b[0m\n",
            "\u001b[0;31mNameError\u001b[0m: name 'vp' is not defined"
          ]
        }
      ]
    },
    {
      "cell_type": "code",
      "source": [
        "for key, val in y_dct.items():\n",
        "    # print(f\"len({key}) = {len(y_dct[key])}\")\n",
        "    y_dct[key] = np.stack(val)\n",
        "    print(f\"{key}.shape = {y_dct[key].shape}\")"
      ],
      "metadata": {
        "id": "WBJvQian2GHj"
      },
      "execution_count": null,
      "outputs": []
    },
    {
      "cell_type": "code",
      "source": [
        "from copy import deepcopy\n",
        "import MotoricaInterface as mi; assert(mi.__version__==\"0.0.3\") # last time tested\n",
        "vp = mi.VirtualPhantomClient('localhost', 1755)"
      ],
      "metadata": {
        "id": "0j8_4xdyMEpx"
      },
      "execution_count": null,
      "outputs": []
    },
    {
      "cell_type": "code",
      "source": [
        "!ls /dev/ttyUSB*"
      ],
      "metadata": {
        "id": "ck0iEiNVMGkS"
      },
      "execution_count": null,
      "outputs": []
    },
    {
      "cell_type": "code",
      "source": [
        "TIMEOUT = 0.033\n",
        "DEBUG = True\n",
        "\n",
        "ser = None\n",
        "ser_port = None\n",
        "ser_port = '/dev/ttyUSB1'\n",
        "\n",
        "if ser_port is not None:\n",
        "    ser = serial.Serial(port=ser_port, baudrate=115200, timeout=1.0)\n",
        "    # time.sleep(0.2)\n",
        "\n",
        "    # ser.write('M0\\r\\n'.encode())\n",
        "    # time.sleep(0.1)\n",
        "\n",
        "    # # ser.write('S2\\r\\n'.encode())\n",
        "    # # time.sleep(0.1)\n",
        "\n",
        "    # ser.write('PT\\r\\n'.encode())\n",
        "    # time.sleep(0.1)\n",
        "    # ser.write('Pt\\r\\n'.encode())\n",
        "    # time.sleep(0.1)\n",
        "    # ser.flush()\n",
        "\n",
        "    # time.sleep(0.1)"
      ],
      "metadata": {
        "id": "kY5L2PtkMLCA"
      },
      "execution_count": null,
      "outputs": []
    },
    {
      "cell_type": "code",
      "source": [
        "def parseline():\n",
        "    line = ser.readline().decode().replace('\\n', '')\n",
        "    data = np.array(list(filter(len, np.array(line.split(\" \"))))).astype(float)\n",
        "    return data\n",
        "\n",
        "ser.readline()\n",
        "while True:\n",
        "    data = parseline()\n",
        "    print(f\"data len: {len(data)} |\", list(data), end = '                                          \\r')"
      ],
      "metadata": {
        "id": "w2zmoBUCMOTe"
      },
      "execution_count": null,
      "outputs": []
    },
    {
      "cell_type": "code",
      "source": [
        "# flush buffers\n",
        "ser.reset_input_buffer()\n",
        "ser.read()\n",
        "\n",
        "i = 0;\n",
        "while(ser.in_waiting):\n",
        "    print(f'Flushing buffers {i}: {ser.in_waiting}', end='    \\r')\n",
        "    ser.read_all()\n",
        "    time.sleep(0.005)\n",
        "    i+=1;\n",
        "ser.readline()\n",
        "ser.readline()\n",
        "\n",
        "i = 0\n",
        "ts_old = time.time()\n",
        "ts_diff = 0;\n",
        "\n",
        "ts_diffs = []\n",
        "x_previous = None\n",
        "y_previous = None\n",
        "\n",
        "pack = None\n",
        "\n",
        "prev_state = 'None'\n",
        "prev_idx = -1\n",
        "y_commands = vp.neutral_state.copy()\n",
        "\n",
        "while True:\n",
        "\n",
        "    # [Data reading]\n",
        "    s = ser.readline()\n",
        "    ts_start = time.time()\n",
        "\n",
        "    try:\n",
        "        sample = s.decode().replace('\\n', '')\n",
        "        data = np.array(list(filter(len, np.array(sample.split(\" \"))))).astype(float)\n",
        "        [[ts, cycle_ts], omg_sample] = np.array_split(data, [2])\n",
        "\n",
        "    except Exception as e:\n",
        "        print(e)\n",
        "    # [/Data Reading]\n",
        "\n",
        "    # [Data preprocessing]\n",
        "    sample_preprocessed = preprocessing(omg_sample)\n",
        "    # [/Data preprocessing]\n",
        "\n",
        "    # [Inference]\n",
        "    y_predicted         = inference(sample_preprocessed)\n",
        "    # [/Inference]\n",
        "\n",
        "    # [Inference Postprocessing]\n",
        "    y_postprocessed     = postprocessing(y_predicted, y_previous)\n",
        "    # [/Inference Postprocessing]\n",
        "\n",
        "    # [Commands composition]\n",
        "    y_commands          = commands(y_postprocessed.argmax())\n",
        "    # [/Commands composition]\n",
        "\n",
        "    # [Commands sending]\n",
        "    # pack, _ = drv_abs_one(ser, list(y_commands)); # + [0]\n",
        "    prot_idx = deepcopy(y_commands)\n",
        "    if (prot_idx!=prev_idx):\n",
        "        # socket_send(row.Command)\n",
        "        vp.send_cmd(**y_commands)\n",
        "        prev_idx = prot_idx\n",
        "    # [/Commands sending]\n",
        "\n",
        "    y_previous = y_postprocessed\n",
        "\n",
        "\n",
        "    if DEBUG:\n",
        "        clear_output(wait=True)\n",
        "\n",
        "        # sanity check: iteration should increase monotonically, TIMEDIFF approximately 32-34 ms, CYCLETIME < TIMEOUT, WAITING should be == 0\n",
        "        print(f'ITERATION:\\t{i}\\tTIMEDIFF:\\t{(ts_start - ts_old)*1000: .0f}\\tCYCLETIME:\\t{ts_diff*1000:.0f}\\tWAITING:\\t{ser.in_waiting}')\n",
        "        # print('INPUT:\\n', s)\n",
        "        print('SAMPLE:\\n', sample)\n",
        "\n",
        "        # sanity check: Sizes of SAMPLE=65, OMG=50\n",
        "        print(f'SAMPLE SIZE: {len(sample)}, OMG: {len(omg_sample)}')\n",
        "        print(f'TS: {ts}, CYCLE TS: {cycle_ts}')\n",
        "        print(y_postprocessed, GESTURES[y_postprocessed])\n",
        "        # print(y_commands)\n",
        "        # print(pack)\n",
        "\n",
        "    ts_diff = time.time() - ts_start\n",
        "    # assert(ts_diff<TIMEOUT), 'Calculation cycle takes more than TIMEOUT, halting...'\n",
        "    ts_old = ts_start\n",
        "    i += 1"
      ],
      "metadata": {
        "id": "RGf0_Iq9MUWD"
      },
      "execution_count": null,
      "outputs": []
    }
  ]
}